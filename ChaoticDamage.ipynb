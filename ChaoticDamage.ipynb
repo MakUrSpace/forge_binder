{
 "cells": [
  {
   "cell_type": "code",
   "execution_count": 1,
   "metadata": {
    "tags": []
   },
   "outputs": [
    {
     "name": "stdout",
     "output_type": "stream",
     "text": [
      "time: 314 µs (started: 2023-04-17 19:51:59 -04:00)\n"
     ]
    }
   ],
   "source": [
    "from solid import *\n",
    "from subprocess import run\n",
    "import viewscad\n",
    "from datetime import datetime\n",
    "start = datetime.utcnow()\n",
    "r = viewscad.Renderer()\n",
    "from random import random\n",
    "%load_ext autotime"
   ]
  },
  {
   "cell_type": "code",
   "execution_count": 2,
   "metadata": {
    "tags": []
   },
   "outputs": [
    {
     "name": "stdout",
     "output_type": "stream",
     "text": [
      "time: 453 µs (started: 2023-04-17 19:51:59 -04:00)\n"
     ]
    }
   ],
   "source": [
    "eradius = 10\n",
    "blockWidth = 2\n",
    "jigger = 2"
   ]
  },
  {
   "cell_type": "code",
   "execution_count": 3,
   "metadata": {
    "tags": []
   },
   "outputs": [
    {
     "name": "stdout",
     "output_type": "stream",
     "text": [
      "time: 4.18 ms (started: 2023-04-17 19:51:59 -04:00)\n"
     ]
    }
   ],
   "source": [
    "def chaoticLine(length=100):\n",
    "    step = blockWidth * 0.25\n",
    "    blocks = []\n",
    "    for i in range(0, int(length / step + 0.5)):\n",
    "        blocks.append(translate([step * i, 0, 0])(rotate([180 * random(), 180 * random(), 180 * random()])(cube([blockWidth, blockWidth, blockWidth]))))\n",
    "    return sum(blocks)"
   ]
  },
  {
   "cell_type": "code",
   "execution_count": 4,
   "metadata": {
    "tags": []
   },
   "outputs": [
    {
     "name": "stderr",
     "output_type": "stream",
     "text": [
      "Geometries in cache: 401\n",
      "Geometry cache size in bytes: 291928\n",
      "CGAL Polyhedrons in cache: 1\n",
      "CGAL cache size in bytes: 7086072\n",
      "Total rendering time: 0:00:11.411\n",
      "   Top level object is a 3D object:\n",
      "   Simple:        yes\n",
      "   Vertices:     4951\n",
      "   Halfedges:   15926\n",
      "   Edges:        7963\n",
      "   Halffacets:   5942\n",
      "   Facets:       2971\n",
      "   Volumes:         5\n"
     ]
    },
    {
     "data": {
      "application/vnd.jupyter.widget-view+json": {
       "model_id": "c6dd293e23884eedb6373b2c20d71fc4",
       "version_major": 2,
       "version_minor": 0
      },
      "text/plain": [
       "VBox(children=(HTML(value=''), Renderer(background='#cccc88', background_opacity=0.0, camera=PerspectiveCamera…"
      ]
     },
     "metadata": {},
     "output_type": "display_data"
    },
    {
     "name": "stdout",
     "output_type": "stream",
     "text": [
      "time: 11.9 s (started: 2023-04-17 19:51:59 -04:00)\n"
     ]
    }
   ],
   "source": [
    "lineDamage = chaoticLine()\n",
    "r.render(lineDamage)"
   ]
  },
  {
   "cell_type": "code",
   "execution_count": null,
   "metadata": {},
   "outputs": [],
   "source": [
    "ProjectName=\"LineDamage\"\n",
    "scad_render_to_file(lineDamage, f\"{ProjectName}.scad\")\n",
    "stlf = f\"{ProjectName}.stl\"\n",
    "scadf = f\"{ProjectName}.scad\"\n",
    "!openscad -o $stlf $scadf\n",
    "!rm $scadf"
   ]
  },
  {
   "cell_type": "code",
   "execution_count": null,
   "metadata": {},
   "outputs": [],
   "source": [
    "def chaoticCube(width=10):\n",
    "    step = blockWidth\n",
    "    lines = int(width / step + 0.5)\n",
    "    side = [translate([0, step * i, 0])(chaoticLine(length=10)) for i in range(0, lines)]\n",
    "    return (side + translate([0, 0, width])(side) \n",
    "        + rotate([0, -90, 0])(side) + translate([width, 0, 0])(rotate([0, -90, 0])(side)) \\\n",
    "        + rotate([90, 0, 0])(side) + translate([0, width, 0])(rotate([90, 0, 0])(side))\n",
    "        + translate([width * 0.125, width * 0.125, width * 0.125])(cube(width * 0.75))\n",
    "    )"
   ]
  },
  {
   "cell_type": "code",
   "execution_count": null,
   "metadata": {},
   "outputs": [],
   "source": [
    "cubeDamage = chaoticCube()\n",
    "r.render(cubeDamage)"
   ]
  },
  {
   "cell_type": "code",
   "execution_count": null,
   "metadata": {},
   "outputs": [],
   "source": [
    "ProjectName=\"CubeDamage\"\n",
    "scad_render_to_file(cubeDamage, f\"{ProjectName}.scad\")\n",
    "stlf = f\"{ProjectName}.stl\"\n",
    "scadf = f\"{ProjectName}.scad\"\n",
    "!openscad -o $stlf $scadf\n",
    "!rm $scadf"
   ]
  },
  {
   "cell_type": "code",
   "execution_count": null,
   "metadata": {},
   "outputs": [],
   "source": [
    "def chaoticRing():\n",
    "    explosion = sum([rotate([0, 0, 15 * c])(translate([eradius + jigger * random(), 0, 0])(rotate([180 * random(), 180 * random(), 180*random()])(cube([blockWidth, blockWidth, blockWidth])))) for c in range(24)])\n",
    "    explosion = explosion + rotate([0, 0, 25])(explosion) + rotate([0, 0, 75])(explosion)\n",
    "    return explosion"
   ]
  },
  {
   "cell_type": "code",
   "execution_count": null,
   "metadata": {},
   "outputs": [],
   "source": [
    "r.render(chaoticRing())"
   ]
  },
  {
   "cell_type": "code",
   "execution_count": null,
   "metadata": {},
   "outputs": [],
   "source": [
    "sphericalDamage = (sum([rotate([0, 15 * c, 0])(chaoticRing()) for c in range(12)])\n",
    "    + sum([rotate([15 * c, 0, 0])(chaoticRing()) for c in range(12)])\n",
    "    + sphere(r=eradius*0.85))"
   ]
  },
  {
   "cell_type": "code",
   "execution_count": null,
   "metadata": {},
   "outputs": [],
   "source": [
    "r.render(sphericalDamage)"
   ]
  },
  {
   "cell_type": "code",
   "execution_count": null,
   "metadata": {},
   "outputs": [],
   "source": [
    "ProjectName=\"SphericalDamage\"\n",
    "scad_render_to_file(sphericalDamage, f\"{ProjectName}.scad\")\n",
    "stlf = f\"{ProjectName}.stl\"\n",
    "scadf = f\"{ProjectName}.scad\"\n",
    "!openscad -o $stlf $scadf\n",
    "!rm $scadf"
   ]
  },
  {
   "cell_type": "code",
   "execution_count": null,
   "metadata": {},
   "outputs": [],
   "source": []
  }
 ],
 "metadata": {
  "kernelspec": {
   "display_name": "Python 3 (ipykernel)",
   "language": "python",
   "name": "python3"
  },
  "language_info": {
   "codemirror_mode": {
    "name": "ipython",
    "version": 3
   },
   "file_extension": ".py",
   "mimetype": "text/x-python",
   "name": "python",
   "nbconvert_exporter": "python",
   "pygments_lexer": "ipython3",
   "version": "3.10.6"
  }
 },
 "nbformat": 4,
 "nbformat_minor": 4
}
