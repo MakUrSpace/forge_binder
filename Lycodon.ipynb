{
 "cells": [
  {
   "cell_type": "code",
   "execution_count": 1,
   "metadata": {},
   "outputs": [],
   "source": [
    "import cv2\n",
    "from matplotlib import pyplot as plt\n",
    "import solid as sp\n",
    "import viewscad\n",
    "import random\n",
    "from pathfinding.core.diagonal_movement import DiagonalMovement\n",
    "from pathfinding.core.grid import Grid\n",
    "from pathfinding.finder.a_star import AStarFinder"
   ]
  },
  {
   "cell_type": "code",
   "execution_count": 2,
   "metadata": {},
   "outputs": [],
   "source": [
    "from datetime import datetime, timedelta\n",
    "start = datetime.utcnow()"
   ]
  },
  {
   "cell_type": "code",
   "execution_count": 3,
   "metadata": {},
   "outputs": [],
   "source": [
    "ProjectName = \"LycodonTop\"\n",
    "LayerFile = f\"Downloads/{ProjectName}.png\"\n",
    "TraceFile = f\"Downloads/{ProjectName}Trace.png\"\n",
    "TrenchFile = \"Downloads/LycodonDrill.png\""
   ]
  },
  {
   "cell_type": "code",
   "execution_count": 4,
   "metadata": {},
   "outputs": [],
   "source": [
    "img_files = [LayerFile, TraceFile, TrenchFile]\n",
    "images = {img_file: cv2.imread(img_file, cv2.IMREAD_GRAYSCALE) for img_file in img_files}"
   ]
  },
  {
   "cell_type": "code",
   "execution_count": 5,
   "metadata": {},
   "outputs": [
    {
     "data": {
      "text/plain": [
       "<matplotlib.image.AxesImage at 0x7f20de1848b0>"
      ]
     },
     "execution_count": 5,
     "metadata": {},
     "output_type": "execute_result"
    },
    {
     "data": {
      "image/png": "[encoded data removed]",
      "text/plain": [
       "<Figure size 432x288 with 1 Axes>"
      ]
     },
     "metadata": {
      "needs_background": "light"
     },
     "output_type": "display_data"
    }
   ],
   "source": [
    "plt.imshow(images[LayerFile])"
   ]
  },
  {
   "cell_type": "code",
   "execution_count": 6,
   "metadata": {},
   "outputs": [],
   "source": [
    "def get_image_grid_fill_map(img):\n",
    "    height, width = img.shape\n",
    "    filled = {}\n",
    "    img_grid = [[0 for x in range(width + 1)] for y in range(height + 1)]\n",
    "    count = 0\n",
    "    for y_i, y in enumerate(img):\n",
    "        col = img_grid[y_i]\n",
    "        for x_i, x in enumerate(y):\n",
    "            count += 1\n",
    "            if x < 125:\n",
    "                col[x_i] = 1\n",
    "                filled[(x_i, y_i)] = 1\n",
    "    return filled, img_grid, (height, width)"
   ]
  },
  {
   "cell_type": "code",
   "execution_count": 7,
   "metadata": {},
   "outputs": [],
   "source": [
    "_, trace_grid, _ = get_image_grid_fill_map(images[TraceFile])\n",
    "trace_grid = Grid(matrix=trace_grid)\n",
    "layer_filled, _, layer_shape = get_image_grid_fill_map(images[LayerFile])"
   ]
  },
  {
   "cell_type": "code",
   "execution_count": 8,
   "metadata": {},
   "outputs": [],
   "source": [
    "def shape_mapper(node, shape=[]):\n",
    "   shape.extend([node])\n",
    "   [shape_mapper(n, shape) for n in trace_grid.neighbors(node, diagonal_movement=True) if n not in shape]\n",
    "   return shape"
   ]
  },
  {
   "cell_type": "code",
   "execution_count": 9,
   "metadata": {},
   "outputs": [],
   "source": [
    "import sys\n",
    "sys.setrecursionlimit(int((layer_shape[0] * layer_shape[1]) / 4))"
   ]
  },
  {
   "cell_type": "code",
   "execution_count": 10,
   "metadata": {},
   "outputs": [
    {
     "name": "stdout",
     "output_type": "stream",
     "text": [
      "13114\n",
      "8\n"
     ]
    }
   ],
   "source": [
    "shapes = []\n",
    "all_nodes = []\n",
    "for row in trace_grid.nodes:\n",
    "    for node in row:\n",
    "        if not node.walkable:\n",
    "            continue\n",
    "        all_nodes.append(node)\n",
    "        matched = False\n",
    "        for shape in shapes:\n",
    "            if node in shape:\n",
    "                matched = True\n",
    "                break\n",
    "        if matched:\n",
    "            continue\n",
    "        else:\n",
    "            shapes.append(shape_mapper(node, []))\n",
    "print(len(all_nodes))\n",
    "print(len(shapes))"
   ]
  },
  {
   "cell_type": "code",
   "execution_count": 11,
   "metadata": {},
   "outputs": [],
   "source": [
    "def empty_space(node):\n",
    "    space = 0\n",
    "    paths = trace_grid.neighbors(node)\n",
    "    while True:\n",
    "        if space > 5:\n",
    "            break\n",
    "        elif len(paths) == 4:\n",
    "            space += 1\n",
    "        else:\n",
    "            space += len(paths) / 4\n",
    "            break\n",
    "        paths = [sn for n in paths for sn in trace_grid.neighbors(n)\n",
    "                 if (sn.x == node.x) != (sn.y == node.y)]\n",
    "    return space"
   ]
  },
  {
   "cell_type": "code",
   "execution_count": 12,
   "metadata": {},
   "outputs": [],
   "source": [
    "selected = []\n",
    "for shape in shapes:\n",
    "    shape_space = [(n, empty_space(n)) for n in shape]\n",
    "    max_space  = max(shape_space, key=lambda x: x[1])[1]\n",
    "    if max_space <= 4:\n",
    "        max_node = max(shape_space, key=lambda x: x[1])[0]\n",
    "    else:\n",
    "        max_nodes = [n for n, es in shape_space if es > 4]\n",
    "        max_node = random.sample(max_nodes, k=1)[0]\n",
    "    selected.append(max_node)"
   ]
  },
  {
   "cell_type": "code",
   "execution_count": 13,
   "metadata": {},
   "outputs": [
    {
     "data": {
      "text/plain": [
       "8"
      ]
     },
     "execution_count": 13,
     "metadata": {},
     "output_type": "execute_result"
    }
   ],
   "source": [
    "tower_coords = [[n.x, n.y] for n in selected]\n",
    "len(tower_coords)"
   ]
  },
  {
   "cell_type": "code",
   "execution_count": 14,
   "metadata": {},
   "outputs": [],
   "source": [
    "tower_height = 16\n",
    "space = None\n",
    "cuber = lambda: sp.cube(size=[1, 1, 2], center=True)\n",
    "normal_placer = lambda coord: sp.translate([coord[0], coord[1], 0])\n",
    "\n",
    "tower = lambda: sp.cube(size=[3, 4, tower_height], center=True)\n",
    "tower_placer = lambda coord: sp.translate([coord[0], coord[1], tower_height / 2])\n",
    "\n",
    "\n",
    "def in_tower_coords(coord):\n",
    "    for tc in tower_coords:\n",
    "        if coord[0] == tc[0] and coord[1] == tc[1]:\n",
    "            return True\n",
    "    return False\n",
    "\n",
    "for coord in layer_filled.keys():\n",
    "    coord_space = tower_placer(coord)(tower()) \\\n",
    "                  if in_tower_coords(coord) else \\\n",
    "                  normal_placer(coord)(cuber())\n",
    "    if space is None:\n",
    "        space = coord_space\n",
    "    else:\n",
    "        space += coord_space"
   ]
  },
  {
   "cell_type": "code",
   "execution_count": 15,
   "metadata": {},
   "outputs": [],
   "source": [
    "# borders = sp.cube(size=[layer_shape[1], 1, 3], center=False)\n",
    "# borders += normal_placer([0, layer_shape[0], 0])(sp.cube(size=[layer_shape[1], 1, 3], center=False))\n",
    "# borders += normal_placer([0, 0, 0])(sp.cube(size=[1, layer_shape[0], 3], center=False))\n",
    "# borders += normal_placer([layer_shape[1], 0, 0])(sp.cube(size=[1, layer_shape[0], 3], center=False))"
   ]
  },
  {
   "cell_type": "code",
   "execution_count": 16,
   "metadata": {},
   "outputs": [],
   "source": [
    "# pcb = space + borders"
   ]
  },
  {
   "cell_type": "code",
   "execution_count": 17,
   "metadata": {},
   "outputs": [
    {
     "data": {
      "application/vnd.jupyter.widget-view+json": {
       "model_id": "238a9bf9a4104349bbed1201d72541a6",
       "version_major": 2,
       "version_minor": 0
      },
      "text/plain": [
       "VBox(children=(HTML(value=''), Renderer(background='#cccc88', background_opacity=0.0, camera=PerspectiveCamera…"
      ]
     },
     "metadata": {},
     "output_type": "display_data"
    }
   ],
   "source": [
    "r = viewscad.Renderer()\n",
    "r.render(space)"
   ]
  },
  {
   "cell_type": "code",
   "execution_count": 18,
   "metadata": {},
   "outputs": [],
   "source": [
    "sp.scad_render_to_file(space, f\"{ProjectName}.scad\")\n",
    "stlf = f\"{ProjectName}.stl\"\n",
    "scadf = f\"{ProjectName}.scad\"\n",
    "!openscad -o $stlf $scadf"
   ]
  },
  {
   "cell_type": "code",
   "execution_count": 19,
   "metadata": {},
   "outputs": [
    {
     "name": "stdout",
     "output_type": "stream",
     "text": [
      "16.396706066666667\n"
     ]
    }
   ],
   "source": [
    "end = datetime.utcnow()\n",
    "print((end - start).total_seconds() / 60)"
   ]
  }
 ],
 "metadata": {
  "kernelspec": {
   "display_name": "Python 3 (ipykernel)",
   "language": "python",
   "name": "python3"
  },
  "language_info": {
   "codemirror_mode": {
    "name": "ipython",
    "version": 3
   },
   "file_extension": ".py",
   "mimetype": "text/x-python",
   "name": "python",
   "nbconvert_exporter": "python",
   "pygments_lexer": "ipython3",
   "version": "3.8.10"
  }
 },
 "nbformat": 4,
 "nbformat_minor": 4
}
